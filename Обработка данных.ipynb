{
 "cells": [
  {
   "cell_type": "code",
   "execution_count": 3,
   "metadata": {},
   "outputs": [],
   "source": [
    "import numpy as np\n",
    "import sympy as smp"
   ]
  },
  {
   "cell_type": "code",
   "execution_count": 21,
   "metadata": {},
   "outputs": [
    {
     "data": {
      "text/plain": [
       "numpy.str_"
      ]
     },
     "execution_count": 21,
     "metadata": {},
     "output_type": "execute_result"
    }
   ],
   "source": [
    "text_file = open(\"3points.txt\", \"r\")\n",
    "lines = text_file.readlines()\n",
    "lines = np.array(lines)\n",
    "\n",
    "type(lines[1])\n"
   ]
  },
  {
   "cell_type": "code",
   "execution_count": 45,
   "metadata": {},
   "outputs": [
    {
     "data": {
      "text/plain": [
       "['0.213456',\n",
       " '0.153496',\n",
       " '0.0144207',\n",
       " '0.00986555',\n",
       " '0.00133928',\n",
       " '0.000892973',\n",
       " '0.000144695',\n",
       " '9.52264e-05',\n",
       " '1.68267e-05',\n",
       " '1.10015e-05',\n",
       " '2.02909e-06',\n",
       " '1.32229e-06']"
      ]
     },
     "execution_count": 45,
     "metadata": {},
     "output_type": "execute_result"
    }
   ],
   "source": [
    "with open('3points.txt') as f:\n",
    "    contents = f.read()\n",
    "contents = contents.split()\n",
    "for el in contents: el = float(el)\n",
    "\n",
    "contents"
   ]
  },
  {
   "cell_type": "code",
   "execution_count": 49,
   "metadata": {},
   "outputs": [
    {
     "data": {
      "text/plain": [
       "array([['0.213456', '0.153496', ''],\n",
       "       ['0.0144207', '0.00986555', ''],\n",
       "       ['0.00133928', '0.000892973', ''],\n",
       "       ['0.000144695', '9.52264e-05', ''],\n",
       "       ['1.68267e-05', '1.10015e-05', ''],\n",
       "       ['2.02909e-06', '1.32229e-06', '']], dtype=object)"
      ]
     },
     "execution_count": 49,
     "metadata": {},
     "output_type": "execute_result"
    }
   ],
   "source": [
    "data = np.loadtxt(\"3points.txt\", dtype=object, delimiter=' ', usecols=(1,2))\n",
    "data"
   ]
  },
  {
   "cell_type": "code",
   "execution_count": null,
   "metadata": {},
   "outputs": [],
   "source": []
  }
 ],
 "metadata": {
  "kernelspec": {
   "display_name": "Python 3",
   "language": "python",
   "name": "python3"
  },
  "language_info": {
   "codemirror_mode": {
    "name": "ipython",
    "version": 3
   },
   "file_extension": ".py",
   "mimetype": "text/x-python",
   "name": "python",
   "nbconvert_exporter": "python",
   "pygments_lexer": "ipython3",
   "version": "3.10.0"
  }
 },
 "nbformat": 4,
 "nbformat_minor": 2
}
